{
 "cells": [
  {
   "cell_type": "code",
   "execution_count": 1,
   "metadata": {},
   "outputs": [],
   "source": [
    "from lighttag_to_adm import convert_lighttag_example_to_adm\n",
    "from adm_to_lighttag import adm_doc_to_lighttag_suggetions,adm_document_list_to_lighttag_suggestions\n",
    "import json\n",
    "import os\n",
    "import pandas as pd"
   ]
  },
  {
   "cell_type": "markdown",
   "metadata": {},
   "source": [
    "## Get The ADMS\n",
    "In this case we'll just make adms from LightTag data. You probably have ADMs in a file or in memory"
   ]
  },
  {
   "cell_type": "markdown",
   "metadata": {},
   "source": [
    "## Notes on the adm_document_list_to_lighttag_suggestions function\n",
    "This function takes two optional callback arguments\n",
    "\n",
    "* **example_id_fn** extracts the lighttag example id from the ADM Doc\n",
    "\n",
    "* **lighttag_tag_name_extractor** resolves the LightTag tag name of the entity\n",
    "\n",
    "Both of these have defaults defined in adm_to_lighttag\n"
   ]
  },
  {
   "cell_type": "code",
   "execution_count": 2,
   "metadata": {},
   "outputs": [],
   "source": [
    "adms = []\n",
    "for root,d,files in os.walk('/tmp/sixgill/'):\n",
    "    for f in files:\n",
    "        if f.endswith('adm.json'):\n",
    "            adms.append(json.load(open(os.path.join(root,f))))\n",
    "            \n",
    "seen_examples = adm_document_list_to_lighttag_suggestions(adms)"
   ]
  },
  {
   "cell_type": "code",
   "execution_count": 3,
   "metadata": {},
   "outputs": [],
   "source": [
    "suggestions = seen_examples['suggestions']\n",
    "\n",
    "seen_example_ids = seen_examples['seen_example_ids']"
   ]
  },
  {
   "cell_type": "markdown",
   "metadata": {},
   "source": [
    "# TODO For Sixgill/ Nadav\n",
    " * Notice that the example_id is a list, please modify the example_id_fn to match your branch\n",
    " * Implement the lighttag_tag_name_extractor to get the lighttag tag name\n",
    " * Is Basis sending more tags than what is in your schema ? We'll reject those "
   ]
  },
  {
   "cell_type": "code",
   "execution_count": null,
   "metadata": {},
   "outputs": [],
   "source": [
    "pd.DataFrame(suggestions)"
   ]
  },
  {
   "cell_type": "markdown",
   "metadata": {},
   "source": [
    "# Sanity Check conflicts which LightTag might reject\n",
    "\n",
    "We'll run the conflict resolveer, if you get any warnings here than you need to check why you have overlapping suggestions. "
   ]
  },
  {
   "cell_type": "code",
   "execution_count": null,
   "metadata": {},
   "outputs": [],
   "source": [
    "import copy\n",
    "from itertools import groupby\n",
    "pseudo_annotations = []\n",
    "for sug in suggestions:\n",
    "    x = copy.copy(sug)\n",
    "    x['annotated_by'] = [\"my_model\"]\n",
    "    pseudo_annotations.append(x)\n",
    "\n",
    "pseudos_by_example = groupby(pseudo_annotations,key=lambda x:x['example_id'])\n"
   ]
  },
  {
   "cell_type": "code",
   "execution_count": null,
   "metadata": {},
   "outputs": [],
   "source": [
    "from conflict_resolver import resolve_annotation_conflicts\n",
    "for example_id, example_suggestions in pseudos_by_example:\n",
    "        resolve_annotation_conflicts(list(example_suggestions))\n"
   ]
  },
  {
   "cell_type": "markdown",
   "metadata": {},
   "source": [
    "## Now Upload The Suggestions as Usual"
   ]
  },
  {
   "cell_type": "markdown",
   "metadata": {},
   "source": [
    "From this point, you need to [register the model in LightTag](https://guide.lighttag.io/suggestions/suggestions/#2.-Registering-a-SuggestionModel) and [upload the suggestions ](https://guide.lighttag.io/suggestions/suggestions/#4.-Upload-Your-Suggestions)"
   ]
  }
 ],
 "metadata": {
  "kernelspec": {
   "display_name": "Python 3",
   "language": "python",
   "name": "python3"
  },
  "language_info": {
   "codemirror_mode": {
    "name": "ipython",
    "version": 3
   },
   "file_extension": ".py",
   "mimetype": "text/x-python",
   "name": "python",
   "nbconvert_exporter": "python",
   "pygments_lexer": "ipython3",
   "version": "3.6.9"
  }
 },
 "nbformat": 4,
 "nbformat_minor": 2
}
