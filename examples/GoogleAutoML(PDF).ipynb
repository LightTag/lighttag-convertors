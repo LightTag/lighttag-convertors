{
 "cells": [
  {
   "cell_type": "code",
   "execution_count": 2,
   "metadata": {},
   "outputs": [
    {
     "name": "stdout",
     "output_type": "stream",
     "text": [
      "/home/tal/dev/lighttag/scratch/basis/lighttag_to_adm\n"
     ]
    }
   ],
   "source": [
    "cd .."
   ]
  },
  {
   "cell_type": "code",
   "execution_count": 18,
   "metadata": {},
   "outputs": [],
   "source": [
    "from google_automl import lighttag_to_gml, gml_to_lighttag\n",
    "import json\n",
    "from pprint import pprint\n",
    "import os"
   ]
  },
  {
   "cell_type": "code",
   "execution_count": 4,
   "metadata": {},
   "outputs": [
    {
     "data": {
      "text/plain": [
       "[{'content': '3/27/2020 Tartine’s Country Bread Recipe - NYT Cooking\\nSave\\nTartine’s Country Bread\\nBy The N ew York Times\\nYIELD 2 loaves\\nT IME 2 weeks (or 2 days with active starter)\\nThe country bread from Tartine Bakery in San Francisco has reached cult status among passionate bakers, and deservedly so. Based on traditional principles, Mr. Robertson has developed a way to get a tangy, open crumb encased in a blistered, rugged crust in a home kitchen, from a starter you create yourself. It is a bit of project — from start to finish, it takes about two weeks — but well worth the effort. (If you already have active starter ready to go, then the process shortens to two days.) So know that you have to be patient, and that the nature of bread baking at home is unpredictable. The level of activity of your starter, the humidity in your kitchen, the temperature during the rises, the time you allow for each step — all of these elements affect the bread and any change can impact your final loaf. But that final loaf is a wonder, the holy grail for the serious home baker.\\nPREPARATION INGREDIENTS\\nStep 1 Make the starter: Combine 1,000 grams white-bread flour with 1,000 grams whole-wheat flour. Put 100 grams of warm water (about 80 degrees) in a small jar or container and add 100 grams of the flour mix. Use your fingers to mix until thoroughly combined and the mixture is the consistency of thick batter. Cover with a towel and let sit at room temperature until mixture begins to bubble and puff, 2 to 3 days.\\nFOR THE STARTER AND LEAVEN\\n1000 grams white-bread flour 1000 grams whole-wheat flour\\nFOR THE BREAD\\n200 grams leaven 900 grams white-bread flour 100 grams whole-wheat flour, plus more for dusting 20 grams fine sea salt 100 grams rice flour\\nStep 2 When starter begins to show signs of activity, begin regular feedings. Keep the starter at room temperature, and at the same time each day discard 80 percent of the starter and feed remaining starter with equal parts warm water and white-wheat flour mix (50 grams of each is fine). When starter begins to rise and fall predictably and takes on a slightly sour smell, it’s ready; this should take about 1 week.(Reserve remaining flour mix for leaven.)\\nStep 3 Make the leaven: The night before baking, discard all but 1 tablespoon of the mature starter. Mix the remaining starter with 200 grams of warm water and stir with your hand to disperse. Add 200 grams of the white-wheat flour mix and combine well. Cover with a towel and let rest at room temperature for 12 hours or until aerated and puffed in appearance. To test for readiness, drop a tablespoon of leaven into a bowl of room-temperature water; if it floats it’s ready to use. If it doesn’t, allow more time to ferment.\\nStep 4 Make the dough: In a large bowl, combine 200 grams of leaven with 700 grams of warm water and stir to disperse. (Reserve remaining leaven for future loaves; see note below.)\\nStep 5 Add 900 grams of white-bread flour and 100 grams of whole-wheat flour to bowl and use your hands to mix until no traces of dry flour remain. The dough\\nhttps://cooking.nytimes.com/recipes/1016277-tartines-country-bread 1/3\\n\\n3/27/2020 Tartine’s Country Bread Recipe - NYT Cooking\\nwill be sticky and ragged. Cover bowl with a towel and let dough rest for 25 to 40 minutes at room temperature.\\nStep 6 Add 20 grams fine sea salt and 50 grams warm water. Use hands to integrate salt and water into dough thoroughly. The dough will begin to pull apart, but continue mixing; it will come back together.\\nStep 7 Cover dough with a towel and transfer to a warm environment, 75 to 80 degrees ideally (like near a window in a sunny room, or inside a turned-off oven). Let dough rise for 30 minutes. Fold dough by dipping hand in water, taking hold of the underside of the dough at one quadrant and stretching it up over the rest of the dough. Repeat this action 3 more times, rotating bowl a quarter turn for each fold. Do this every half-hour for 2 1/2 hours more (3 hours total). The dough should be billowy and increase in volume 20 to 30 percent. If not, continue to let rise and fold for up to an hour more.\\nStep 8 Transfer dough to a work surface and dust top with flour. Use a dough scraper to cut dough into 2 equal pieces and flip them over so floured sides are face down. Fold the cut side of each piece up onto itself so the flour on the surface remains entirely on the outside of the loaf; this will become the crust. Work dough into taut rounds. Place the dough rounds on a work surface, cover with a towel, and let rest 30 minutes.\\nStep 9 Mix 100 grams whole-wheat flour and 100 grams rice flours. Line two 10- to 12-inch bread-proofing baskets or mixing bowls with towels. Use some of the flour mixture to generously flour towels (reserve remaining mixture).\\nStep 10 Dust rounds with whole-wheat flour. Use a dough scraper to flip them over onto a work surface so floured sides are facing down. Take one round, and starting at the side closest to you, pull the bottom 2 corners of the dough down toward you, then fold them up into the middle third of the dough. Repeat this action on the right and left sides, pulling the edges out and folding them in over the center. Finally, lift the top corners up and fold down over previous folds. (Imagine folding a piece of paper in on itself from all 4 sides.) Roll dough over so the folded side becomes the bottom of the loaf. Shape into a smooth, taut ball. Repeat with other round.\\nStep 11 Transfer rounds, seam-side up, to prepared baskets. Cover with a towel and return dough to the 75- to 80-degree environment for 3 to 4 hours. (Or let dough rise for 10 to 12 hours in the refrigerator. Bring back to room temperature before baking.)\\nStep 12 About 30 minutes before baking, place a Dutch oven or lidded cast-iron pot in the oven and heat it to 500 degrees. Dust tops of dough, still in their baskets, with whole-wheat/rice-flour mixture. Very carefully remove heated pot from oven and gently turn 1 loaf into pan seam-side down. Use a lame (a baker’s blade) or razor blade to score the top of the bread a few times to allow for expansion, cover and transfer to oven. Reduce temperature to 450 degrees\\nhttps://cooking.nytimes.com/recipes/1016277-tartines-country-bread 2/3\\n\\n3/27/2020 Tartine’s Country Bread Recipe - NYT Cooking\\nTip The remaining leaven is your new starter. Continue to feed it if you plan to bake again soon or hold in an airtight container in the refrigerator for future use. When you want to bake again, begin feeding the starter a few days or a week beforehand until it once again behaves predictably.\\nAdapted from “Tartine Bread” by Chad Robertson\\nhttps://cooking.nytimes.com/recipes/1016277-tartines-country-bread 3/3\\nand cook for 20 minutes. Carefully remove lid (steam may release) and cook for 20 more minutes or until crust is a rich, golden brown color.\\nStep 13 Transfer bread to a wire rack to cool for at least 15 minutes before slicing. The bottom of the loaf should sound hollow when tapped. Increase oven temperature to 500 degrees, clean out pot and repeat this process with the second loaf.\\nPRIVATE NOTES\\nLeave a Private Note on this recipe and see it here.',\n",
       "  'gml': {'annotations': [{'displayName': 'agreementDate',\n",
       "     'textExtraction': {'textSegment': {'endOffset': '9'}}},\n",
       "    {'displayName': 'counterpartyName',\n",
       "     'textExtraction': {'textSegment': {'startOffset': '60',\n",
       "       'endOffset': '69'}}}],\n",
       "   'document': {'documentText': {},\n",
       "    'layout': [{'textSegment': {'endOffset': '9', 'content': '3/27/2020'},\n",
       "      'pageNumber': 1,\n",
       "      'boundingPoly': {'normalizedVertices': [{'x': 0.04248366,\n",
       "         'y': 0.017676767},\n",
       "        {'x': 0.09477124, 'y': 0.017676767},\n",
       "        {'x': 0.09477124, 'y': 0.026515152},\n",
       "        {'x': 0.04248366, 'y': 0.026515152}]},\n",
       "      'textSegmentType': 'TOKEN'},\n",
       "     {'textSegment': {'startOffset': '10',\n",
       "       'endOffset': '19',\n",
       "       'content': 'Tartine’s'},\n",
       "      'pageNumber': 1,\n",
       "      'boundingPoly': {'normalizedVertices': [{'x': 0.4248366,\n",
       "         'y': 0.017676767},\n",
       "        {'x': 0.46895424, 'y': 0.017676767},\n",
       "        {'x': 0.46895424, 'y': 0.026515152},\n",
       "        {'x': 0.4248366, 'y': 0.026515152}]},\n",
       "      'textSegmentType': 'TOKEN'}],\n",
       "    'documentDimensions': {'unit': 'POINT', 'width': 612, 'height': 792},\n",
       "    'pageCount': 3}},\n",
       "  'jsonl_filename': './google_automl/test/outml_annotation_data.jsonl'}]"
      ]
     },
     "execution_count": 4,
     "metadata": {},
     "output_type": "execute_result"
    }
   ],
   "source": [
    "automl_example_data_path = './google_automl/test/'\n",
    "lighttag_example = gml_to_lighttag.gml_dir_to_lighttag_examples(automl_example_data_path)\n",
    "lighttag_example # This is a list of examples (in this case 1).\n"
   ]
  },
  {
   "cell_type": "code",
   "execution_count": 5,
   "metadata": {},
   "outputs": [],
   "source": [
    "#Now we save it as a file that we can upload to LightTag\n",
    "with open(\"/tmp/example_out.json\",\"w\") as f:\n",
    "    json.dump(lighttag_example,f)"
   ]
  },
  {
   "cell_type": "markdown",
   "metadata": {},
   "source": [
    "# Converting LightTag Annotations to Google ML Format\n",
    "So now we loaded that into LightTag and annotated. We've downloaded the results and will now convert those back to \n",
    "The google ML Format"
   ]
  },
  {
   "cell_type": "code",
   "execution_count": 5,
   "metadata": {},
   "outputs": [],
   "source": [
    "with open(\"./google_automl/test/lighttag_annotations.json\") as f:\n",
    "    ltjob = json.load(f)"
   ]
  },
  {
   "cell_type": "code",
   "execution_count": 6,
   "metadata": {},
   "outputs": [],
   "source": [
    "# We get back a dictionary mapping filenames to the actual content\n",
    "annotated_gml_dict = lighttag_to_gml.lighttag_job_to_gml_dict(ltjob)"
   ]
  },
  {
   "cell_type": "code",
   "execution_count": 15,
   "metadata": {},
   "outputs": [
    {
     "name": "stdout",
     "output_type": "stream",
     "text": [
      "[{'displayName': 'TITLE',\n",
      "  'textExtraction': {'textSegment': {'endOffset': '83', 'startOffset': '60'}}},\n",
      " {'displayName': 'ORGANIZATION',\n",
      "  'textExtraction': {'textSegment': {'endOffset': '205',\n",
      "                                     'startOffset': '191'}}},\n",
      " {'displayName': 'PERSON',\n",
      "  'textExtraction': {'textSegment': {'endOffset': '337',\n",
      "                                     'startOffset': '324'}}},\n",
      " {'displayName': 'ORGANIZATION',\n",
      "  'textExtraction': {'textSegment': {'endOffset': '6293',\n",
      "                                     'startOffset': '6282'}}},\n",
      " {'displayName': 'LOCATION',\n",
      "  'textExtraction': {'textSegment': {'endOffset': '222',\n",
      "                                     'startOffset': '209'}}},\n",
      " {'displayName': 'ORGANIZATION',\n",
      "  'textExtraction': {'textSegment': {'endOffset': '54', 'startOffset': '43'}}},\n",
      " {'displayName': 'TITLE',\n",
      "  'textExtraction': {'textSegment': {'endOffset': '6279',\n",
      "                                     'startOffset': '6249'}}},\n",
      " {'displayName': 'ORGANIZATION',\n",
      "  'textExtraction': {'textSegment': {'endOffset': '3192',\n",
      "                                     'startOffset': '3181'}}},\n",
      " {'displayName': 'TITLE',\n",
      "  'textExtraction': {'textSegment': {'endOffset': '40', 'startOffset': '10'}}},\n",
      " {'displayName': 'TITLE',\n",
      "  'textExtraction': {'textSegment': {'endOffset': '3178',\n",
      "                                     'startOffset': '3148'}}},\n",
      " {'displayName': 'ORGANIZATION',\n",
      "  'textExtraction': {'textSegment': {'endOffset': '106', 'startOffset': '87'}}}]\n"
     ]
    }
   ],
   "source": [
    "#Viewing the annotations\n",
    "for filename,gml_with_annotations in annotated_gml_doc.items():\n",
    "    pprint(gml_with_annotations['annotations'])"
   ]
  },
  {
   "cell_type": "markdown",
   "metadata": {},
   "source": [
    "# Writing the annotations to disk"
   ]
  },
  {
   "cell_type": "code",
   "execution_count": 20,
   "metadata": {},
   "outputs": [],
   "source": [
    "outpath = '/tmp'\n",
    "for filename,gml_with_annotations in annotated_gml_doc.items():\n",
    "    path = os.path.join(outpath,os.path.basename(filename))\n",
    "    with open(path,\"w\") as f:\n",
    "        json.dump(gml_with_annotations,f)"
   ]
  }
 ],
 "metadata": {
  "kernelspec": {
   "display_name": "Python 3",
   "language": "python",
   "name": "python3"
  },
  "language_info": {
   "codemirror_mode": {
    "name": "ipython",
    "version": 3
   },
   "file_extension": ".py",
   "mimetype": "text/x-python",
   "name": "python",
   "nbconvert_exporter": "python",
   "pygments_lexer": "ipython3",
   "version": "3.6.9"
  }
 },
 "nbformat": 4,
 "nbformat_minor": 2
}
