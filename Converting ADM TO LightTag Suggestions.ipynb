{
 "cells": [
  {
   "cell_type": "code",
   "execution_count": 1,
   "metadata": {},
   "outputs": [],
   "source": [
    "from lighttag_to_adm import convert_lighttag_example_to_adm\n",
    "from adm_to_lighttag import adm_document_list_to_lighttag_suggestions\n",
    "import json"
   ]
  },
  {
   "cell_type": "code",
   "execution_count": 2,
   "metadata": {},
   "outputs": [],
   "source": [
    "job_data = json.load(open('/home/tal/Downloads/mixed_sample1_annotations.json'))\n",
    "examples = job_data['examples']"
   ]
  },
  {
   "cell_type": "markdown",
   "metadata": {},
   "source": [
    "## Get The ADMS\n",
    "In this case we'll just make adms from LightTag data. You probably have ADMs in a file or in memory"
   ]
  },
  {
   "cell_type": "code",
   "execution_count": null,
   "metadata": {},
   "outputs": [],
   "source": [
    "adm_docs = list(map(lambda example:convert_lighttag_example_to_adm(example,reviewed_only=True),examples))"
   ]
  },
  {
   "cell_type": "markdown",
   "metadata": {},
   "source": [
    "## Notes on the adm_document_list_to_lighttag_suggestions function\n",
    "This function takes two optional callback arguments\n",
    "\n",
    "* **example_id_fn** extracts the lighttag example id from the ADM Doc\n",
    "\n",
    "* **lighttag_tag_name_extractor** resolves the LightTag tag name of the entity\n",
    "\n",
    "Both of these have defaults defined in adm_to_lighttag\n"
   ]
  },
  {
   "cell_type": "code",
   "execution_count": 4,
   "metadata": {},
   "outputs": [],
   "source": [
    "lighttag_suggestions = adm_document_list_to_lighttag_suggestions(adm_docs)"
   ]
  },
  {
   "cell_type": "code",
   "execution_count": 6,
   "metadata": {},
   "outputs": [
    {
     "data": {
      "text/plain": [
       "[{'tag': 'Organization',\n",
       "  'example_id': '0655a568-e8d3-40d3-8dd5-e5b614741507',\n",
       "  'start': 6,\n",
       "  'end': 9,\n",
       "  'text': 'BMT'},\n",
       " {'tag': 'Person',\n",
       "  'example_id': '0655a568-e8d3-40d3-8dd5-e5b614741507',\n",
       "  'start': 134,\n",
       "  'end': 139,\n",
       "  'text': 'ketua'},\n",
       " {'tag': 'Person',\n",
       "  'example_id': 'b6accdbb-dfd7-48e2-a03f-86099b0d2545',\n",
       "  'start': 184,\n",
       "  'end': 193,\n",
       "  'text': 'Eva Braun'}]"
      ]
     },
     "execution_count": 6,
     "metadata": {},
     "output_type": "execute_result"
    }
   ],
   "source": [
    "lighttag_suggestions[:3]"
   ]
  },
  {
   "cell_type": "markdown",
   "metadata": {},
   "source": [
    "## Now Upload The Suggestions as Usual"
   ]
  },
  {
   "cell_type": "markdown",
   "metadata": {},
   "source": [
    "From this point, you need to [register the model in LightTag](https://guide.lighttag.io/suggestions/suggestions/#2.-Registering-a-SuggestionModel) and [upload the suggestions ](https://guide.lighttag.io/suggestions/suggestions/#4.-Upload-Your-Suggestions)"
   ]
  }
 ],
 "metadata": {
  "kernelspec": {
   "display_name": "Python 3",
   "language": "python",
   "name": "python3"
  },
  "language_info": {
   "codemirror_mode": {
    "name": "ipython",
    "version": 3
   },
   "file_extension": ".py",
   "mimetype": "text/x-python",
   "name": "python",
   "nbconvert_exporter": "python",
   "pygments_lexer": "ipython3",
   "version": "3.6.9"
  }
 },
 "nbformat": 4,
 "nbformat_minor": 2
}
