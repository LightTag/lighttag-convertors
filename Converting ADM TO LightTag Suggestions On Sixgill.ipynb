{
 "cells": [
  {
   "cell_type": "code",
   "execution_count": 1,
   "metadata": {},
   "outputs": [],
   "source": [
    "from lighttag_to_adm import convert_lighttag_example_to_adm\n",
    "from adm_to_lighttag import adm_doc_to_lighttag_suggetions,adm_document_list_to_lighttag_suggestions\n",
    "import json\n",
    "import os\n",
    "import pandas as pd"
   ]
  },
  {
   "cell_type": "markdown",
   "metadata": {},
   "source": [
    "## Get The ADMS\n",
    "In this case we'll just make adms from LightTag data. You probably have ADMs in a file or in memory"
   ]
  },
  {
   "cell_type": "markdown",
   "metadata": {},
   "source": [
    "## Notes on the adm_document_list_to_lighttag_suggestions function\n",
    "This function takes two optional callback arguments\n",
    "\n",
    "* **example_id_fn** extracts the lighttag example id from the ADM Doc\n",
    "\n",
    "* **lighttag_tag_name_extractor** resolves the LightTag tag name of the entity\n",
    "\n",
    "Both of these have defaults defined in adm_to_lighttag\n"
   ]
  },
  {
   "cell_type": "code",
   "execution_count": 2,
   "metadata": {},
   "outputs": [],
   "source": [
    "adms = []\n",
    "for root,d,files in os.walk('/tmp/sixgill/'):\n",
    "    for f in files:\n",
    "        if f.endswith('adm.json'):\n",
    "            adms.append(json.load(open(os.path.join(root,f))))\n",
    "            \n",
    "seen_examples = adm_document_list_to_lighttag_suggestions(adms)"
   ]
  },
  {
   "cell_type": "code",
   "execution_count": 3,
   "metadata": {},
   "outputs": [],
   "source": [
    "suggestions = seen_examples['suggestions']\n",
    "\n",
    "seen_example_ids = seen_examples['seen_example_ids']"
   ]
  },
  {
   "cell_type": "markdown",
   "metadata": {},
   "source": [
    "## Look at examples with no suggestions"
   ]
  },
  {
   "cell_type": "code",
   "execution_count": 7,
   "metadata": {},
   "outputs": [
    {
     "data": {
      "text/html": [
       "<div>\n",
       "<style scoped>\n",
       "    .dataframe tbody tr th:only-of-type {\n",
       "        vertical-align: middle;\n",
       "    }\n",
       "\n",
       "    .dataframe tbody tr th {\n",
       "        vertical-align: top;\n",
       "    }\n",
       "\n",
       "    .dataframe thead th {\n",
       "        text-align: right;\n",
       "    }\n",
       "</style>\n",
       "<table border=\"1\" class=\"dataframe\">\n",
       "  <thead>\n",
       "    <tr style=\"text-align: right;\">\n",
       "      <th></th>\n",
       "      <th>tag</th>\n",
       "      <th>example_id</th>\n",
       "      <th>start</th>\n",
       "      <th>end</th>\n",
       "      <th>text</th>\n",
       "    </tr>\n",
       "  </thead>\n",
       "  <tbody>\n",
       "    <tr>\n",
       "      <th>0</th>\n",
       "      <td>IDENTIFIER:URL</td>\n",
       "      <td>d1d8236b-7732-4db1-957e-2c085c99d490</td>\n",
       "      <td>71</td>\n",
       "      <td>112</td>\n",
       "      <td>http://i39.[censored].com/4sxi69.png[/IMG</td>\n",
       "    </tr>\n",
       "    <tr>\n",
       "      <th>1</th>\n",
       "      <td>IDENTIFIER:EMAIL</td>\n",
       "      <td>d1d8236b-7732-4db1-957e-2c085c99d490</td>\n",
       "      <td>208</td>\n",
       "      <td>225</td>\n",
       "      <td>jacobfllr@msn.com</td>\n",
       "    </tr>\n",
       "    <tr>\n",
       "      <th>2</th>\n",
       "      <td>IDENTIFIER:EMAIL</td>\n",
       "      <td>d1d8236b-7732-4db1-957e-2c085c99d490</td>\n",
       "      <td>238</td>\n",
       "      <td>257</td>\n",
       "      <td>525rghays@gmail.com</td>\n",
       "    </tr>\n",
       "    <tr>\n",
       "      <th>3</th>\n",
       "      <td>PRODUCT</td>\n",
       "      <td>d1d8236b-7732-4db1-957e-2c085c99d490</td>\n",
       "      <td>1147</td>\n",
       "      <td>1164</td>\n",
       "      <td>Perfect Fletching</td>\n",
       "    </tr>\n",
       "    <tr>\n",
       "      <th>4</th>\n",
       "      <td>LOCATION</td>\n",
       "      <td>d1d8236b-7732-4db1-957e-2c085c99d490</td>\n",
       "      <td>2439</td>\n",
       "      <td>2441</td>\n",
       "      <td>US</td>\n",
       "    </tr>\n",
       "    <tr>\n",
       "      <th>...</th>\n",
       "      <td>...</td>\n",
       "      <td>...</td>\n",
       "      <td>...</td>\n",
       "      <td>...</td>\n",
       "      <td>...</td>\n",
       "    </tr>\n",
       "    <tr>\n",
       "      <th>811</th>\n",
       "      <td>PERSON</td>\n",
       "      <td>cbc29d1a-e65d-4376-8a81-8f573a2d9598</td>\n",
       "      <td>22</td>\n",
       "      <td>34</td>\n",
       "      <td>IAM Platform</td>\n",
       "    </tr>\n",
       "    <tr>\n",
       "      <th>812</th>\n",
       "      <td>ORGANIZATION</td>\n",
       "      <td>cbc29d1a-e65d-4376-8a81-8f573a2d9598</td>\n",
       "      <td>51</td>\n",
       "      <td>88</td>\n",
       "      <td>Invictus International Consulting LLC</td>\n",
       "    </tr>\n",
       "    <tr>\n",
       "      <th>813</th>\n",
       "      <td>ORGANIZATION</td>\n",
       "      <td>cbc29d1a-e65d-4376-8a81-8f573a2d9598</td>\n",
       "      <td>118</td>\n",
       "      <td>123</td>\n",
       "      <td>Yahoo</td>\n",
       "    </tr>\n",
       "    <tr>\n",
       "      <th>814</th>\n",
       "      <td>ORGANIZATION</td>\n",
       "      <td>cbc29d1a-e65d-4376-8a81-8f573a2d9598</td>\n",
       "      <td>169</td>\n",
       "      <td>177</td>\n",
       "      <td>invictus</td>\n",
       "    </tr>\n",
       "    <tr>\n",
       "      <th>815</th>\n",
       "      <td>ORGANIZATION</td>\n",
       "      <td>cbc29d1a-e65d-4376-8a81-8f573a2d9598</td>\n",
       "      <td>234</td>\n",
       "      <td>239</td>\n",
       "      <td>yahoo</td>\n",
       "    </tr>\n",
       "  </tbody>\n",
       "</table>\n",
       "<p>816 rows × 5 columns</p>\n",
       "</div>"
      ],
      "text/plain": [
       "                  tag                            example_id  start   end  \\\n",
       "0      IDENTIFIER:URL  d1d8236b-7732-4db1-957e-2c085c99d490     71   112   \n",
       "1    IDENTIFIER:EMAIL  d1d8236b-7732-4db1-957e-2c085c99d490    208   225   \n",
       "2    IDENTIFIER:EMAIL  d1d8236b-7732-4db1-957e-2c085c99d490    238   257   \n",
       "3             PRODUCT  d1d8236b-7732-4db1-957e-2c085c99d490   1147  1164   \n",
       "4            LOCATION  d1d8236b-7732-4db1-957e-2c085c99d490   2439  2441   \n",
       "..                ...                                   ...    ...   ...   \n",
       "811            PERSON  cbc29d1a-e65d-4376-8a81-8f573a2d9598     22    34   \n",
       "812      ORGANIZATION  cbc29d1a-e65d-4376-8a81-8f573a2d9598     51    88   \n",
       "813      ORGANIZATION  cbc29d1a-e65d-4376-8a81-8f573a2d9598    118   123   \n",
       "814      ORGANIZATION  cbc29d1a-e65d-4376-8a81-8f573a2d9598    169   177   \n",
       "815      ORGANIZATION  cbc29d1a-e65d-4376-8a81-8f573a2d9598    234   239   \n",
       "\n",
       "                                          text  \n",
       "0    http://i39.[censored].com/4sxi69.png[/IMG  \n",
       "1                            jacobfllr@msn.com  \n",
       "2                          525rghays@gmail.com  \n",
       "3                            Perfect Fletching  \n",
       "4                                           US  \n",
       "..                                         ...  \n",
       "811                               IAM Platform  \n",
       "812      Invictus International Consulting LLC  \n",
       "813                                      Yahoo  \n",
       "814                                   invictus  \n",
       "815                                      yahoo  \n",
       "\n",
       "[816 rows x 5 columns]"
      ]
     },
     "execution_count": 7,
     "metadata": {},
     "output_type": "execute_result"
    }
   ],
   "source": [
    "Examples = pd.DataFrame(seen_example_ids,columns=['example_id'])\n",
    "Suggestions = pd.DataFrame(suggestions)\n",
    "Suggestions"
   ]
  },
  {
   "cell_type": "code",
   "execution_count": 5,
   "metadata": {},
   "outputs": [
    {
     "ename": "TypeError",
     "evalue": "string indices must be integers",
     "output_type": "error",
     "traceback": [
      "\u001b[0;31m---------------------------------------------------------------------------\u001b[0m",
      "\u001b[0;31mTypeError\u001b[0m                                 Traceback (most recent call last)",
      "\u001b[0;32m<ipython-input-5-b4ea712b41ea>\u001b[0m in \u001b[0;36m<module>\u001b[0;34m\u001b[0m\n\u001b[0;32m----> 1\u001b[0;31m \u001b[0mnext\u001b[0m\u001b[0;34m(\u001b[0m\u001b[0mfilter\u001b[0m\u001b[0;34m(\u001b[0m\u001b[0;32mlambda\u001b[0m \u001b[0mx\u001b[0m\u001b[0;34m:\u001b[0m\u001b[0mlen\u001b[0m\u001b[0;34m(\u001b[0m\u001b[0mx\u001b[0m\u001b[0;34m[\u001b[0m\u001b[0;34m'suggestions'\u001b[0m\u001b[0;34m]\u001b[0m\u001b[0;34m)\u001b[0m\u001b[0;34m==\u001b[0m\u001b[0;36m0\u001b[0m\u001b[0;34m,\u001b[0m\u001b[0mseen_examples\u001b[0m\u001b[0;34m)\u001b[0m\u001b[0;34m)\u001b[0m\u001b[0;34m\u001b[0m\u001b[0;34m\u001b[0m\u001b[0m\n\u001b[0m",
      "\u001b[0;32m<ipython-input-5-b4ea712b41ea>\u001b[0m in \u001b[0;36m<lambda>\u001b[0;34m(x)\u001b[0m\n\u001b[0;32m----> 1\u001b[0;31m \u001b[0mnext\u001b[0m\u001b[0;34m(\u001b[0m\u001b[0mfilter\u001b[0m\u001b[0;34m(\u001b[0m\u001b[0;32mlambda\u001b[0m \u001b[0mx\u001b[0m\u001b[0;34m:\u001b[0m\u001b[0mlen\u001b[0m\u001b[0;34m(\u001b[0m\u001b[0mx\u001b[0m\u001b[0;34m[\u001b[0m\u001b[0;34m'suggestions'\u001b[0m\u001b[0;34m]\u001b[0m\u001b[0;34m)\u001b[0m\u001b[0;34m==\u001b[0m\u001b[0;36m0\u001b[0m\u001b[0;34m,\u001b[0m\u001b[0mseen_examples\u001b[0m\u001b[0;34m)\u001b[0m\u001b[0;34m)\u001b[0m\u001b[0;34m\u001b[0m\u001b[0;34m\u001b[0m\u001b[0m\n\u001b[0m",
      "\u001b[0;31mTypeError\u001b[0m: string indices must be integers"
     ]
    }
   ],
   "source": [
    "next(filter(lambda x:len(x['suggestions'])==0,seen_examples))"
   ]
  },
  {
   "cell_type": "markdown",
   "metadata": {},
   "source": [
    "# TODO For Sixgill/ Nadav\n",
    " * Notice that the example_id is a list, please modify the example_id_fn to match your branch\n",
    " * Implement the lighttag_tag_name_extractor to get the lighttag tag name\n",
    " * Is Basis sending more tags than what is in your schema ? We'll reject those "
   ]
  },
  {
   "cell_type": "code",
   "execution_count": null,
   "metadata": {},
   "outputs": [],
   "source": [
    "pd.DataFrame(suggestions)"
   ]
  },
  {
   "cell_type": "markdown",
   "metadata": {},
   "source": [
    "# Sanity Check conflicts which LightTag might reject\n",
    "\n",
    "We'll run the conflict resolveer, if you get any warnings here than you need to check why you have overlapping suggestions. "
   ]
  },
  {
   "cell_type": "code",
   "execution_count": null,
   "metadata": {},
   "outputs": [],
   "source": [
    "import copy\n",
    "from itertools import groupby\n",
    "pseudo_annotations = []\n",
    "for sug in suggestions:\n",
    "    x = copy.copy(sug)\n",
    "    x['annotated_by'] = [\"my_model\"]\n",
    "    pseudo_annotations.append(x)\n",
    "\n",
    "pseudos_by_example = groupby(pseudo_annotations,key=lambda x:x['example_id'])\n"
   ]
  },
  {
   "cell_type": "code",
   "execution_count": null,
   "metadata": {},
   "outputs": [],
   "source": [
    "from conflict_resolver import resolve_annotation_conflicts\n",
    "for example_id, example_suggestions in pseudos_by_example:\n",
    "        resolve_annotation_conflicts(list(example_suggestions))\n"
   ]
  },
  {
   "cell_type": "markdown",
   "metadata": {},
   "source": [
    "## Now Upload The Suggestions as Usual"
   ]
  },
  {
   "cell_type": "markdown",
   "metadata": {},
   "source": [
    "From this point, you need to [register the model in LightTag](https://guide.lighttag.io/suggestions/suggestions/#2.-Registering-a-SuggestionModel) and [upload the suggestions ](https://guide.lighttag.io/suggestions/suggestions/#4.-Upload-Your-Suggestions)"
   ]
  }
 ],
 "metadata": {
  "kernelspec": {
   "display_name": "Python 3",
   "language": "python",
   "name": "python3"
  },
  "language_info": {
   "codemirror_mode": {
    "name": "ipython",
    "version": 3
   },
   "file_extension": ".py",
   "mimetype": "text/x-python",
   "name": "python",
   "nbconvert_exporter": "python",
   "pygments_lexer": "ipython3",
   "version": "3.6.9"
  }
 },
 "nbformat": 4,
 "nbformat_minor": 2
}
